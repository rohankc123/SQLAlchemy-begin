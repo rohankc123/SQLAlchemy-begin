{
 "cells": [
  {
   "cell_type": "code",
   "execution_count": null,
   "metadata": {},
   "outputs": [],
   "source": [
    "# Define Patient Class\n",
    "from sqlalchemy import Column, String, Integer\n",
    "from sqlalchemy.orm import relationship\n",
    "from base import base\n",
    "\n",
    "\n",
    "class Patient(base):\n",
    "    \n",
    "    __tablename__ = \"patients\"\n",
    "    id = Column(Integer, primary_key=True)\n",
    "    name = Column(String)\n",
    "    age = Column(Integer)\n",
    "    patients = relationship(\"Doctor\", secondary= patients_interaction_doctor)\n",
    "    \n",
    "    \n",
    "    def __init__(self,name,age,):\n",
    "        self.name = name\n",
    "        self.age = age  "
   ]
  },
  {
   "cell_type": "code",
   "execution_count": null,
   "metadata": {},
   "outputs": [],
   "source": [
    "# Interaction Between the Doctor and Patient Via Table\n",
    "from sqlalchemy import Column, String, Integer, Table, ForeignKey\n",
    "from sqlalchemy.orm import relationship\n",
    "from base import base\n",
    "\n",
    "\n",
    "    patients_interaction_doctor = Table \n",
    "        ( \"patients_doctor\", Base.metadata, Column(\"patient_id\"), Integer, ForeignKey(\"patients.id\"), \n",
    "                                            Column(\"doctor.id\", Integer, ForeignKey(\"doctors.id\")) \n",
    "        )"
   ]
  },
  {
   "cell_type": "code",
   "execution_count": null,
   "metadata": {},
   "outputs": [],
   "source": [
    "# Define Doctor Class\n",
    "from sqlalchemy import Column, String, Integer, ForeignKey\n",
    "from sqlalchemy.orm import relationship, backref\n",
    "from base import base\n",
    "\n",
    "\n",
    "class Doctor(base):\n",
    "    \n",
    "    id = Column(Integer, primary_key=True)\n",
    "    name = Column(String)\n",
    "    age = Column(Integer)\n",
    "    job = Column(Integer)\n",
    "    patient_id = Column(Integer, ForeignKey(\"patients.id\"))\n",
    "    patient = relationship(\"Patient\", backre=backref(\"doctor\", uselist=False))\n",
    "    \n",
    "    \n",
    "    def __init__(self,name,age,job,patient):\n",
    "        self.patient = patient\n",
    "        self.job = job     "
   ]
  },
  {
   "cell_type": "code",
   "execution_count": null,
   "metadata": {},
   "outputs": [],
   "source": [
    "# Main Class\n",
    "\n",
    "from sqlalchemy import create_engine\n",
    "from sqlalchemy.orm import sessionmaker\n",
    "\n",
    "from doctor import Doctor\n",
    "from patient import Patient\n",
    "from base import Session, engine, Base\n",
    "\n",
    "\n",
    "engine = create_engine('') #Given a said URL\n",
    "Session = sessionmaker(bind=engine)\n",
    "\n",
    "\n",
    "Base.metadata.create_all(engine)\n",
    "session = Session()\n",
    "\n",
    "# Create patients and Doctors\n",
    "\n",
    "jane_d = Patient(\"Jane Doe\",35)\n",
    "john_d = Patient(\"John Doe \", 44)\n",
    "\n",
    "spike_l = Doctor(\"Spike Lee\", 48, jane_d)\n",
    "rick_p = Doctor(\"Rick Pawn\", 61, john_d)\n",
    "\n",
    "#place data\n",
    "session.add(jane_d)\n",
    "session.add(john_d)\n",
    "\n",
    "session.add(spike_l)\n",
    "session.add(rick_p)\n",
    "\n",
    "session.commit()\n",
    "session.close()"
   ]
  }
 ],
 "metadata": {
  "kernelspec": {
   "display_name": "Python 3",
   "language": "python",
   "name": "python3"
  },
  "language_info": {
   "codemirror_mode": {
    "name": "ipython",
    "version": 3
   },
   "file_extension": ".py",
   "mimetype": "text/x-python",
   "name": "python",
   "nbconvert_exporter": "python",
   "pygments_lexer": "ipython3",
   "version": "3.6.5"
  }
 },
 "nbformat": 4,
 "nbformat_minor": 2
}
